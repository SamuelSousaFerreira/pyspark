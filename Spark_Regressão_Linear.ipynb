{
  "nbformat": 4,
  "nbformat_minor": 0,
  "metadata": {
    "colab": {
      "name": "Spark Regressão Linear.ipynb",
      "provenance": [],
      "authorship_tag": "ABX9TyMhb+EnCMxLAtolkenFvELk",
      "include_colab_link": true
    },
    "kernelspec": {
      "name": "python3",
      "display_name": "Python 3"
    },
    "language_info": {
      "name": "python"
    }
  },
  "cells": [
    {
      "cell_type": "markdown",
      "metadata": {
        "id": "view-in-github",
        "colab_type": "text"
      },
      "source": [
        "<a href=\"https://colab.research.google.com/github/SamuelSousaFerreira/pyspark/blob/main/Spark_Regress%C3%A3o_Linear.ipynb\" target=\"_parent\"><img src=\"https://colab.research.google.com/assets/colab-badge.svg\" alt=\"Open In Colab\"/></a>"
      ]
    },
    {
      "cell_type": "code",
      "execution_count": 1,
      "metadata": {
        "colab": {
          "base_uri": "https://localhost:8080/"
        },
        "id": "BDW_C6coX7b8",
        "outputId": "07bb2258-7e53-45f2-c46f-fec0aa48e8a0"
      },
      "outputs": [
        {
          "output_type": "stream",
          "name": "stdout",
          "text": [
            "Looking in indexes: https://pypi.org/simple, https://us-python.pkg.dev/colab-wheels/public/simple/\n",
            "Collecting pyspark\n",
            "  Downloading pyspark-3.3.0.tar.gz (281.3 MB)\n",
            "\u001b[K     |████████████████████████████████| 281.3 MB 43 kB/s \n",
            "\u001b[?25hCollecting py4j==0.10.9.5\n",
            "  Downloading py4j-0.10.9.5-py2.py3-none-any.whl (199 kB)\n",
            "\u001b[K     |████████████████████████████████| 199 kB 65.1 MB/s \n",
            "\u001b[?25hBuilding wheels for collected packages: pyspark\n",
            "  Building wheel for pyspark (setup.py) ... \u001b[?25l\u001b[?25hdone\n",
            "  Created wheel for pyspark: filename=pyspark-3.3.0-py2.py3-none-any.whl size=281764026 sha256=a244f3a5da7e07050b0d5fb719e648eb93efed49308fc79eaa7669bf774ad864\n",
            "  Stored in directory: /root/.cache/pip/wheels/7a/8e/1b/f73a52650d2e5f337708d9f6a1750d451a7349a867f928b885\n",
            "Successfully built pyspark\n",
            "Installing collected packages: py4j, pyspark\n",
            "Successfully installed py4j-0.10.9.5 pyspark-3.3.0\n"
          ]
        }
      ],
      "source": [
        "!pip install pyspark"
      ]
    },
    {
      "cell_type": "markdown",
      "source": [
        "# Spark Session\n",
        "\n",
        "O ponto de entrads para programar o Spark com API Dataset e DataFrame.\n",
        "Uma SparkSession pode ser utilizada para criar DataFrames, registrar DataFrames como tabelas, executar consultas SQL em tabelas, armazenar em cachê e ler arquivos parquet. \n",
        "Para criar uma SparkSession, usamos o seguinte padrão de costrutor:"
      ],
      "metadata": {
        "id": "aaBmVWDTY4S6"
      }
    },
    {
      "cell_type": "code",
      "source": [
        "from pyspark.sql import SparkSession\n",
        "\n",
        "spark = SparkSession.builder\\\n",
        "        .master('local[*]')\\\n",
        "        .appName(\"Regressão com Spark\")\\\n",
        "        .getOrCreate()\n",
        "\n",
        "spark"
      ],
      "metadata": {
        "colab": {
          "base_uri": "https://localhost:8080/",
          "height": 222
        },
        "id": "ib_4ZFPAYKHv",
        "outputId": "7a53a49f-112a-4356-e89e-91050cc903fe"
      },
      "execution_count": 2,
      "outputs": [
        {
          "output_type": "execute_result",
          "data": {
            "text/plain": [
              "<pyspark.sql.session.SparkSession at 0x7f35c19ee7d0>"
            ],
            "text/html": [
              "\n",
              "            <div>\n",
              "                <p><b>SparkSession - in-memory</b></p>\n",
              "                \n",
              "        <div>\n",
              "            <p><b>SparkContext</b></p>\n",
              "\n",
              "            <p><a href=\"http://fc3955369c68:4040\">Spark UI</a></p>\n",
              "\n",
              "            <dl>\n",
              "              <dt>Version</dt>\n",
              "                <dd><code>v3.3.0</code></dd>\n",
              "              <dt>Master</dt>\n",
              "                <dd><code>local[*]</code></dd>\n",
              "              <dt>AppName</dt>\n",
              "                <dd><code>Regressão com Spark</code></dd>\n",
              "            </dl>\n",
              "        </div>\n",
              "        \n",
              "            </div>\n",
              "        "
            ]
          },
          "metadata": {},
          "execution_count": 2
        }
      ]
    },
    {
      "cell_type": "markdown",
      "source": [
        "# Carregamento dos Dados"
      ],
      "metadata": {
        "id": "ZC3epyAcakvk"
      }
    },
    {
      "cell_type": "markdown",
      "source": [
        "## Montando o Drive"
      ],
      "metadata": {
        "id": "U4Ugu8Char9X"
      }
    },
    {
      "cell_type": "code",
      "source": [
        "from google.colab import drive\n",
        "drive.mount('/content/drive')"
      ],
      "metadata": {
        "colab": {
          "base_uri": "https://localhost:8080/"
        },
        "id": "XAe5M7mYZqBX",
        "outputId": "50348a3b-cb45-44d0-fa21-a164374adf46"
      },
      "execution_count": 3,
      "outputs": [
        {
          "output_type": "stream",
          "name": "stdout",
          "text": [
            "Mounted at /content/drive\n"
          ]
        }
      ]
    },
    {
      "cell_type": "code",
      "source": [
        "dados = spark.read.json('/content/drive/MyDrive/Cursos/pyspark/Regressão Com PySpark/imoveis.json')\n"
      ],
      "metadata": {
        "id": "8yf5i3iha-MG"
      },
      "execution_count": 5,
      "outputs": []
    },
    {
      "cell_type": "code",
      "source": [
        "dados"
      ],
      "metadata": {
        "colab": {
          "base_uri": "https://localhost:8080/"
        },
        "id": "539lGYZ0dTZ_",
        "outputId": "72ed0000-1aa3-4b99-c329-176eb43bc53f"
      },
      "execution_count": 6,
      "outputs": [
        {
          "output_type": "execute_result",
          "data": {
            "text/plain": [
              "DataFrame[ident: struct<customerID:string,source:string>, listing: struct<address:struct<city:string,location:struct<lat:double,lon:double>,neighborhood:string,zone:string>,features:struct<bathrooms:bigint,bedrooms:bigint,floors:bigint,parkingSpaces:bigint,suites:bigint,totalAreas:string,unitFloor:bigint,unitsOnTheFloor:bigint,usableAreas:string>,prices:struct<price:string,tax:struct<condo:string,iptu:string>>,types:struct<unit:string,usage:string>>]"
            ]
          },
          "metadata": {},
          "execution_count": 6
        }
      ]
    },
    {
      "cell_type": "code",
      "source": [
        "dados.show(truncate = False)"
      ],
      "metadata": {
        "colab": {
          "base_uri": "https://localhost:8080/"
        },
        "id": "MJV5b0SUdWKV",
        "outputId": "8eb67e64-1bbd-4908-9668-540f1b2b0772"
      },
      "execution_count": 7,
      "outputs": [
        {
          "output_type": "stream",
          "name": "stdout",
          "text": [
            "+--------------------------+-----------------------------------------------------------------------------------------------------------------------------------------------------------------+\n",
            "|ident                     |listing                                                                                                                                                          |\n",
            "+--------------------------+-----------------------------------------------------------------------------------------------------------------------------------------------------------------+\n",
            "|{775564-BOJSMVON, Website}|{{Rio de Janeiro, {-22.909429, -43.413557}, Taquara, Zona Oeste}, {0, 0, 0, 1, 0, 62, 0, 0, 62}, {45000, {150, 0}}, {Outros, Residencial}}                       |\n",
            "|{660895-AUENKNYY, Website}|{{Rio de Janeiro, {-22.869698, -43.509141}, Santíssimo, Zona Oeste}, {1, 2, 0, 1, 0, 0, 0, 0, 44}, {45000, {120, 0}}, {Apartamento, Residencial}}                |\n",
            "|{751522-JESYFEQL, Website}|{{Rio de Janeiro, {-22.986927, -43.646786}, Pedra de Guaratiba, Zona Oeste}, {0, 0, 0, 0, 0, 132, 0, 0, 132}, {50000, {100, 0}}, {Outros, Residencial}}          |\n",
            "|{714052-GAAEWYKS, Website}|{{Rio de Janeiro, {-22.881977, -43.330818}, Cascadura, Zona Norte}, {1, 0, 0, 0, 0, 32, 3, 0, 32}, {45000, {468, 346}}, {Outros, Comercial}}                     |\n",
            "|{568886-ZIBFOMCC, Website}|{{Rio de Janeiro, {-23.027653, -43.480742}, Recreio dos Bandeirantes, Zona Oeste}, {2, 3, 3, 1, 1, 0, 2, 4, 60}, {50000, {400, 120}}, {Apartamento, Residencial}}|\n",
            "|{526755-OBLTYTEN, Website}|{{Rio de Janeiro, {-22.966059, -43.571183}, Guaratiba, Zona Oeste}, {0, 0, 0, 0, 0, 200, 0, 0, 200}, {50000, {0, null}}, {Outros, Residencial}}                  |\n",
            "|{593569-CJLMNFGW, Website}|{{Rio de Janeiro, {-22.939028, -43.3453}, Freguesia (Jacarepaguá), Zona Oeste}, {1, 0, 0, 0, 0, 25, 2, 0, 25}, {50000, {801, 211}}, {Outros, Comercial}}         |\n",
            "|{989181-RYJOLMCU, Website}|{{Rio de Janeiro, {-22.841509, -43.278855}, Penha, Zona Norte}, {1, 0, 0, 0, 0, 23, 0, 0, 23}, {50000, {230, null}}, {Outros, Comercial}}                        |\n",
            "|{145372-EZKAKSWM, Website}|{{Rio de Janeiro, {-22.835609, -43.392253}, Ricardo de Albuquerque, Zona Norte}, {0, 0, 0, 0, 0, 60, 0, 0, 60}, {45000, {null, null}}, {Outros, Comercial}}      |\n",
            "|{792086-NWNQTDYL, Website}|{{Rio de Janeiro, {-22.885306, -43.253044}, Jacarezinho, Zona Norte}, {1, 1, 0, 1, 0, 35, 0, 0, 33}, {45336, {0, 0}}, {Apartamento, Residencial}}                |\n",
            "|{339622-MNZGLKTZ, Website}|{{Rio de Janeiro, {-22.990425, -43.635505}, Guaratiba, Zona Oeste}, {0, 0, 0, 0, 0, 120, 0, 0, 120}, {45000, {0, 0}}, {Outros, Residencial}}                     |\n",
            "|{952338-SVULQMXR, Website}|{{Rio de Janeiro, {-22.877982, -43.651456}, Santa Cruz, Zona Oeste}, {0, 0, 0, 0, 0, 468, 0, 0, 468}, {45000, {0, 0}}, {Outros, Residencial}}                    |\n",
            "|{570439-LDICQOXZ, Website}|{{Rio de Janeiro, {-22.998183, -43.504337}, Vargem Grande, Zona Oeste}, {0, 0, 0, 0, 0, 180, 1, 0, 180}, {50000, {0, 0}}, {Outros, Residencial}}                 |\n",
            "|{684023-YTBNKLLO, Website}|{{Rio de Janeiro, {-22.843794, -43.512464}, Bangu, Zona Oeste}, {0, 0, 0, 0, 0, 128, 0, 0, 128}, {50000, {0, 0}}, {Outros, Residencial}}                         |\n",
            "|{629412-VKUMMAVR, Website}|{{Rio de Janeiro, {-22.91077, -43.37182}, Tanque, Zona Oeste}, {0, 0, 0, 0, 0, 82, 1, 0, 82}, {45000, {300, 0}}, {Outros, Residencial}}                          |\n",
            "|{041590-HMJIRKDX, Website}|{{Rio de Janeiro, {-22.910099, -43.17797}, Centro, Zona Central}, {0, 0, 0, 1, 0, 5, 0, 0, 5}, {45000, {0, 0}}, {Outros, Comercial}}                             |\n",
            "|{870098-XTRYJAGY, Website}|{{Rio de Janeiro, {-22.867219, -43.335067}, Madureira, Zona Norte}, {1, 0, 0, 0, 0, 350, 0, 0, 350}, {50000, {0, 1600}}, {Outros, Comercial}}                    |\n",
            "|{951104-MACIAPIS, Website}|{{Rio de Janeiro, {-22.897014, -43.201575}, Santo Cristo, Zona Central}, {2, 3, 20, 1, 1, 0, 20, 19, 70}, {45000, {350, 120}}, {Apartamento, Residencial}}       |\n",
            "|{375665-GHMFEZXX, Website}|{{Rio de Janeiro, {-22.902419, -43.20952}, Santo Cristo, Zona Central}, {2, 3, 20, 1, 1, 0, 20, 19, 70}, {50000, {350, 120}}, {Apartamento, Residencial}}        |\n",
            "|{441711-LRTWHRUA, Website}|{{Rio de Janeiro, {-22.989852, -43.623097}, Pedra de Guaratiba, Zona Oeste}, {1, 1, 0, 0, 0, 45, 2, 0, 37}, {50000, {0, 0}}, {Apartamento, Residencial}}         |\n",
            "+--------------------------+-----------------------------------------------------------------------------------------------------------------------------------------------------------------+\n",
            "only showing top 20 rows\n",
            "\n"
          ]
        }
      ]
    },
    {
      "cell_type": "code",
      "source": [
        "dados.count()"
      ],
      "metadata": {
        "colab": {
          "base_uri": "https://localhost:8080/"
        },
        "id": "vaz2MV0Ddmbb",
        "outputId": "8f22b15a-467e-4a99-9220-bd81ce5ef04d"
      },
      "execution_count": 8,
      "outputs": [
        {
          "output_type": "execute_result",
          "data": {
            "text/plain": [
              "73615"
            ]
          },
          "metadata": {},
          "execution_count": 8
        }
      ]
    },
    {
      "cell_type": "markdown",
      "source": [
        "#Seleção de Features"
      ],
      "metadata": {
        "id": "DyyR9E-SdwUi"
      }
    },
    {
      "cell_type": "code",
      "source": [
        "dados.printSchema()"
      ],
      "metadata": {
        "colab": {
          "base_uri": "https://localhost:8080/"
        },
        "id": "xHBcz9Xddnnl",
        "outputId": "aa643cce-0c9b-4b5a-ad9a-abeb8b466d0d"
      },
      "execution_count": 9,
      "outputs": [
        {
          "output_type": "stream",
          "name": "stdout",
          "text": [
            "root\n",
            " |-- ident: struct (nullable = true)\n",
            " |    |-- customerID: string (nullable = true)\n",
            " |    |-- source: string (nullable = true)\n",
            " |-- listing: struct (nullable = true)\n",
            " |    |-- address: struct (nullable = true)\n",
            " |    |    |-- city: string (nullable = true)\n",
            " |    |    |-- location: struct (nullable = true)\n",
            " |    |    |    |-- lat: double (nullable = true)\n",
            " |    |    |    |-- lon: double (nullable = true)\n",
            " |    |    |-- neighborhood: string (nullable = true)\n",
            " |    |    |-- zone: string (nullable = true)\n",
            " |    |-- features: struct (nullable = true)\n",
            " |    |    |-- bathrooms: long (nullable = true)\n",
            " |    |    |-- bedrooms: long (nullable = true)\n",
            " |    |    |-- floors: long (nullable = true)\n",
            " |    |    |-- parkingSpaces: long (nullable = true)\n",
            " |    |    |-- suites: long (nullable = true)\n",
            " |    |    |-- totalAreas: string (nullable = true)\n",
            " |    |    |-- unitFloor: long (nullable = true)\n",
            " |    |    |-- unitsOnTheFloor: long (nullable = true)\n",
            " |    |    |-- usableAreas: string (nullable = true)\n",
            " |    |-- prices: struct (nullable = true)\n",
            " |    |    |-- price: string (nullable = true)\n",
            " |    |    |-- tax: struct (nullable = true)\n",
            " |    |    |    |-- condo: string (nullable = true)\n",
            " |    |    |    |-- iptu: string (nullable = true)\n",
            " |    |-- types: struct (nullable = true)\n",
            " |    |    |-- unit: string (nullable = true)\n",
            " |    |    |-- usage: string (nullable = true)\n",
            "\n"
          ]
        }
      ]
    },
    {
      "cell_type": "code",
      "source": [
        "#selecionando os dados que interessam\n",
        "dados\\\n",
        "    .select('ident.customerID','listing.*')\\\n",
        "    .show(truncate=False)"
      ],
      "metadata": {
        "colab": {
          "base_uri": "https://localhost:8080/"
        },
        "id": "u1AV0-hIDpox",
        "outputId": "d84574f5-66a2-4902-eb65-c6c8a1c4e627"
      },
      "execution_count": 11,
      "outputs": [
        {
          "output_type": "stream",
          "name": "stdout",
          "text": [
            "+---------------+--------------------------------------------------------------------------------+-------------------------------+---------------------+--------------------------+\n",
            "|customerID     |address                                                                         |features                       |prices               |types                     |\n",
            "+---------------+--------------------------------------------------------------------------------+-------------------------------+---------------------+--------------------------+\n",
            "|775564-BOJSMVON|{Rio de Janeiro, {-22.909429, -43.413557}, Taquara, Zona Oeste}                 |{0, 0, 0, 1, 0, 62, 0, 0, 62}  |{45000, {150, 0}}    |{Outros, Residencial}     |\n",
            "|660895-AUENKNYY|{Rio de Janeiro, {-22.869698, -43.509141}, Santíssimo, Zona Oeste}              |{1, 2, 0, 1, 0, 0, 0, 0, 44}   |{45000, {120, 0}}    |{Apartamento, Residencial}|\n",
            "|751522-JESYFEQL|{Rio de Janeiro, {-22.986927, -43.646786}, Pedra de Guaratiba, Zona Oeste}      |{0, 0, 0, 0, 0, 132, 0, 0, 132}|{50000, {100, 0}}    |{Outros, Residencial}     |\n",
            "|714052-GAAEWYKS|{Rio de Janeiro, {-22.881977, -43.330818}, Cascadura, Zona Norte}               |{1, 0, 0, 0, 0, 32, 3, 0, 32}  |{45000, {468, 346}}  |{Outros, Comercial}       |\n",
            "|568886-ZIBFOMCC|{Rio de Janeiro, {-23.027653, -43.480742}, Recreio dos Bandeirantes, Zona Oeste}|{2, 3, 3, 1, 1, 0, 2, 4, 60}   |{50000, {400, 120}}  |{Apartamento, Residencial}|\n",
            "|526755-OBLTYTEN|{Rio de Janeiro, {-22.966059, -43.571183}, Guaratiba, Zona Oeste}               |{0, 0, 0, 0, 0, 200, 0, 0, 200}|{50000, {0, null}}   |{Outros, Residencial}     |\n",
            "|593569-CJLMNFGW|{Rio de Janeiro, {-22.939028, -43.3453}, Freguesia (Jacarepaguá), Zona Oeste}   |{1, 0, 0, 0, 0, 25, 2, 0, 25}  |{50000, {801, 211}}  |{Outros, Comercial}       |\n",
            "|989181-RYJOLMCU|{Rio de Janeiro, {-22.841509, -43.278855}, Penha, Zona Norte}                   |{1, 0, 0, 0, 0, 23, 0, 0, 23}  |{50000, {230, null}} |{Outros, Comercial}       |\n",
            "|145372-EZKAKSWM|{Rio de Janeiro, {-22.835609, -43.392253}, Ricardo de Albuquerque, Zona Norte}  |{0, 0, 0, 0, 0, 60, 0, 0, 60}  |{45000, {null, null}}|{Outros, Comercial}       |\n",
            "|792086-NWNQTDYL|{Rio de Janeiro, {-22.885306, -43.253044}, Jacarezinho, Zona Norte}             |{1, 1, 0, 1, 0, 35, 0, 0, 33}  |{45336, {0, 0}}      |{Apartamento, Residencial}|\n",
            "|339622-MNZGLKTZ|{Rio de Janeiro, {-22.990425, -43.635505}, Guaratiba, Zona Oeste}               |{0, 0, 0, 0, 0, 120, 0, 0, 120}|{45000, {0, 0}}      |{Outros, Residencial}     |\n",
            "|952338-SVULQMXR|{Rio de Janeiro, {-22.877982, -43.651456}, Santa Cruz, Zona Oeste}              |{0, 0, 0, 0, 0, 468, 0, 0, 468}|{45000, {0, 0}}      |{Outros, Residencial}     |\n",
            "|570439-LDICQOXZ|{Rio de Janeiro, {-22.998183, -43.504337}, Vargem Grande, Zona Oeste}           |{0, 0, 0, 0, 0, 180, 1, 0, 180}|{50000, {0, 0}}      |{Outros, Residencial}     |\n",
            "|684023-YTBNKLLO|{Rio de Janeiro, {-22.843794, -43.512464}, Bangu, Zona Oeste}                   |{0, 0, 0, 0, 0, 128, 0, 0, 128}|{50000, {0, 0}}      |{Outros, Residencial}     |\n",
            "|629412-VKUMMAVR|{Rio de Janeiro, {-22.91077, -43.37182}, Tanque, Zona Oeste}                    |{0, 0, 0, 0, 0, 82, 1, 0, 82}  |{45000, {300, 0}}    |{Outros, Residencial}     |\n",
            "|041590-HMJIRKDX|{Rio de Janeiro, {-22.910099, -43.17797}, Centro, Zona Central}                 |{0, 0, 0, 1, 0, 5, 0, 0, 5}    |{45000, {0, 0}}      |{Outros, Comercial}       |\n",
            "|870098-XTRYJAGY|{Rio de Janeiro, {-22.867219, -43.335067}, Madureira, Zona Norte}               |{1, 0, 0, 0, 0, 350, 0, 0, 350}|{50000, {0, 1600}}   |{Outros, Comercial}       |\n",
            "|951104-MACIAPIS|{Rio de Janeiro, {-22.897014, -43.201575}, Santo Cristo, Zona Central}          |{2, 3, 20, 1, 1, 0, 20, 19, 70}|{45000, {350, 120}}  |{Apartamento, Residencial}|\n",
            "|375665-GHMFEZXX|{Rio de Janeiro, {-22.902419, -43.20952}, Santo Cristo, Zona Central}           |{2, 3, 20, 1, 1, 0, 20, 19, 70}|{50000, {350, 120}}  |{Apartamento, Residencial}|\n",
            "|441711-LRTWHRUA|{Rio de Janeiro, {-22.989852, -43.623097}, Pedra de Guaratiba, Zona Oeste}      |{1, 1, 0, 0, 0, 45, 2, 0, 37}  |{50000, {0, 0}}      |{Apartamento, Residencial}|\n",
            "+---------------+--------------------------------------------------------------------------------+-------------------------------+---------------------+--------------------------+\n",
            "only showing top 20 rows\n",
            "\n"
          ]
        }
      ]
    },
    {
      "cell_type": "code",
      "source": [
        "dados"
      ],
      "metadata": {
        "id": "pxgavk3hD-wb"
      },
      "execution_count": null,
      "outputs": []
    }
  ]
}